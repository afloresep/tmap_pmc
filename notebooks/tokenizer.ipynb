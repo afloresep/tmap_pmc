{
 "cells": [
  {
   "cell_type": "code",
   "execution_count": 61,
   "metadata": {},
   "outputs": [
    {
     "name": "stderr",
     "output_type": "stream",
     "text": [
      "[nltk_data] Downloading package punkt to\n",
      "[nltk_data]     C:\\Users\\biolab\\AppData\\Roaming\\nltk_data...\n",
      "[nltk_data]   Package punkt is already up-to-date!\n"
     ]
    }
   ],
   "source": [
    "import pandas as pd\n",
    "import nltk\n",
    "from nltk.tokenize import word_tokenize\n",
    "from rdkit import Chem\n",
    "from rdkit.Chem import rdMHFPFingerprint\n",
    "\n",
    "nltk.download('punkt')\n",
    "\n",
    "# Funciones de preprocesamiento\n",
    "def load_data(file_path):\n",
    "    return pd.read_csv(file_path)\n",
    "\n",
    "def preprocess_text(df):\n",
    "    relevant_columns = ['target_name', 'standard_type', 'target_protein_class', 'Target_Taxonomy', 'Target_organism', 'Target_type']\n",
    "    return df[relevant_columns].apply(lambda x: ' '.join(x.astype(str)), axis=1)\n",
    "\n",
    "def tokenize_text(text):\n",
    "    return word_tokenize(text.lower())\n",
    "\n",
    "# Función para generar fingerprints\n",
    "def generate_fingerprint(tokenized_text, n_permutations=2048):\n",
    "    encoder = rdMHFPFingerprint.MHFPEncoder(n_permutations)\n",
    "    return encoder.FromStringArray(tokenized_text)\n",
    "\n",
    "# # Función principal\n",
    "# def main(file_path):\n",
    "#     # Cargar datos\n",
    "#     df = load_data(file_path)\n",
    "    \n",
    "#     # Preprocesar y tokenizar texto\n",
    "#     preprocessed_text = preprocess_text(df)\n",
    "#     tokenized_texts = preprocessed_text.apply(tokenize_text)\n",
    "    \n",
    "#     # Generar fingerprints\n",
    "#     fingerprints = tokenized_texts.apply(generate_fingerprint)\n",
    "    \n",
    "#     return fingerprints\n",
    "\n",
    "# if __name__ == \"__main__\":\n",
    "#     file_path = \"ruta_a_tu_archivo_csv\"\n",
    "#     fingerprints = main(file_path)\n",
    "#     print(f\"Se han generado {len(fingerprints)} fingerprints.\")"
   ]
  },
  {
   "cell_type": "code",
   "execution_count": 62,
   "metadata": {},
   "outputs": [],
   "source": [
    "df = load_data('../data/dataset.csv')\n",
    "\n",
    "preprocess_text = preprocess_text(df)"
   ]
  },
  {
   "cell_type": "code",
   "execution_count": 67,
   "metadata": {},
   "outputs": [
    {
     "data": {
      "text/plain": [
       "9508"
      ]
     },
     "execution_count": 67,
     "metadata": {},
     "output_type": "execute_result"
    }
   ],
   "source": [
    "len(preprocess_text.unique())"
   ]
  },
  {
   "cell_type": "code",
   "execution_count": 39,
   "metadata": {},
   "outputs": [],
   "source": [
    "tokenized_texts = preprocess_text.apply(tokenize_text)"
   ]
  },
  {
   "cell_type": "code",
   "execution_count": 41,
   "metadata": {},
   "outputs": [
    {
     "ename": "AttributeError",
     "evalue": "module 'tqdm' has no attribute 'pandas'",
     "output_type": "error",
     "traceback": [
      "\u001b[1;31m---------------------------------------------------------------------------\u001b[0m",
      "\u001b[1;31mAttributeError\u001b[0m                            Traceback (most recent call last)",
      "\u001b[1;32m~\\AppData\\Local\\Temp\\ipykernel_4048\\2731053399.py\u001b[0m in \u001b[0;36m<module>\u001b[1;34m\u001b[0m\n\u001b[0;32m      1\u001b[0m \u001b[1;32mimport\u001b[0m \u001b[0mtqdm\u001b[0m\u001b[1;33m\u001b[0m\u001b[1;33m\u001b[0m\u001b[0m\n\u001b[0;32m      2\u001b[0m \u001b[0mfingerprints\u001b[0m \u001b[1;33m=\u001b[0m \u001b[0mtokenized_texts\u001b[0m\u001b[1;33m.\u001b[0m\u001b[0mapply\u001b[0m\u001b[1;33m(\u001b[0m\u001b[0mgenerate_fingerprint\u001b[0m\u001b[1;33m)\u001b[0m\u001b[1;33m\u001b[0m\u001b[1;33m\u001b[0m\u001b[0m\n\u001b[1;32m----> 3\u001b[1;33m \u001b[0mtqdm\u001b[0m\u001b[1;33m.\u001b[0m\u001b[0mpandas\u001b[0m\u001b[1;33m(\u001b[0m\u001b[1;33m)\u001b[0m\u001b[1;33m\u001b[0m\u001b[1;33m\u001b[0m\u001b[0m\n\u001b[0m",
      "\u001b[1;31mAttributeError\u001b[0m: module 'tqdm' has no attribute 'pandas'"
     ]
    }
   ],
   "source": [
    "import tqdm\n",
    "fingerprints = tokenized_texts.apply(generate_fingerprint)\n"
   ]
  },
  {
   "cell_type": "code",
   "execution_count": 42,
   "metadata": {},
   "outputs": [
    {
     "data": {
      "text/plain": [
       "0        [232063346, 127997388, 383541476, 1029502, 264...\n",
       "1        [232063346, 127997388, 383541476, 1029502, 264...\n",
       "2        [232063346, 127997388, 383541476, 1029502, 264...\n",
       "3        [232063346, 127997388, 383541476, 1029502, 264...\n",
       "4        [232063346, 127997388, 383541476, 1029502, 264...\n",
       "                               ...                        \n",
       "38365    [232063346, 416092851, 705268650, 178303529, 2...\n",
       "38366    [232063346, 416092851, 705268650, 178303529, 2...\n",
       "38367    [232063346, 416092851, 705268650, 178303529, 2...\n",
       "38368    [232063346, 416092851, 705268650, 178303529, 2...\n",
       "38369    [232063346, 416092851, 705268650, 178303529, 2...\n",
       "Length: 38370, dtype: object"
      ]
     },
     "execution_count": 42,
     "metadata": {},
     "output_type": "execute_result"
    }
   ],
   "source": [
    "fingerprints"
   ]
  },
  {
   "cell_type": "code",
   "execution_count": 44,
   "metadata": {},
   "outputs": [],
   "source": [
    "import numpy as np\n",
    "numpy_fingerprints = []\n",
    "\n",
    "for i in fingerprints: \n",
    "    numpy_fingerprints.append(np.array(i))"
   ]
  },
  {
   "cell_type": "code",
   "execution_count": 68,
   "metadata": {},
   "outputs": [
    {
     "data": {
      "text/plain": [
       "38370"
      ]
     },
     "execution_count": 68,
     "metadata": {},
     "output_type": "execute_result"
    }
   ],
   "source": [
    "len(numpy_fingerprints)"
   ]
  },
  {
   "cell_type": "code",
   "execution_count": 69,
   "metadata": {},
   "outputs": [],
   "source": [
    "fingerprints = np.array(numpy_fingerprints)"
   ]
  },
  {
   "cell_type": "code",
   "execution_count": 70,
   "metadata": {},
   "outputs": [
    {
     "data": {
      "text/plain": [
       "9494"
      ]
     },
     "execution_count": 70,
     "metadata": {},
     "output_type": "execute_result"
    }
   ],
   "source": [
    "len(np.unique(fingerprints, axis=0))"
   ]
  },
  {
   "cell_type": "code",
   "execution_count": 71,
   "metadata": {},
   "outputs": [],
   "source": [
    "df = pd.read_csv('../data/dataset.csv')"
   ]
  },
  {
   "cell_type": "code",
   "execution_count": 75,
   "metadata": {},
   "outputs": [
    {
     "data": {
      "text/html": [
       "<div>\n",
       "<style scoped>\n",
       "    .dataframe tbody tr th:only-of-type {\n",
       "        vertical-align: middle;\n",
       "    }\n",
       "\n",
       "    .dataframe tbody tr th {\n",
       "        vertical-align: top;\n",
       "    }\n",
       "\n",
       "    .dataframe thead th {\n",
       "        text-align: right;\n",
       "    }\n",
       "</style>\n",
       "<table border=\"1\" class=\"dataframe\">\n",
       "  <thead>\n",
       "    <tr style=\"text-align: right;\">\n",
       "      <th></th>\n",
       "      <th>canonical_smiles</th>\n",
       "      <th>Target_ID</th>\n",
       "      <th>target_name</th>\n",
       "      <th>standard_type</th>\n",
       "      <th>standard_relation</th>\n",
       "      <th>standard_value</th>\n",
       "      <th>standard_units</th>\n",
       "      <th>target_protein_class</th>\n",
       "      <th>Target_Taxonomy</th>\n",
       "      <th>Target_organism</th>\n",
       "      <th>Target_type</th>\n",
       "    </tr>\n",
       "  </thead>\n",
       "  <tbody>\n",
       "    <tr>\n",
       "      <th>0</th>\n",
       "      <td>CCNC(=O)Nc1cn2c(-c3ncc(C)cn3)cc(-c3cncnc3)cc2n1</td>\n",
       "      <td>CHEMBL1075021</td>\n",
       "      <td>DNA gyrase subunit B</td>\n",
       "      <td>IC50</td>\n",
       "      <td>=</td>\n",
       "      <td>0.03600</td>\n",
       "      <td>uM</td>\n",
       "      <td>Enzyme</td>\n",
       "      <td>Bacteria</td>\n",
       "      <td>Streptococcus pneumoniae serotype 4 strain AT...</td>\n",
       "      <td>SINGLE PROTEIN</td>\n",
       "    </tr>\n",
       "    <tr>\n",
       "      <th>5</th>\n",
       "      <td>CCNC(=O)Nc1cn2c(-c3ncccn3)cc(-c3ccc(C)nc3)cc2n1</td>\n",
       "      <td>CHEMBL1075022</td>\n",
       "      <td>ParE</td>\n",
       "      <td>IC50</td>\n",
       "      <td>=</td>\n",
       "      <td>0.11900</td>\n",
       "      <td>uM</td>\n",
       "      <td>Enzyme</td>\n",
       "      <td>Bacteria</td>\n",
       "      <td>Streptococcus pneumoniae</td>\n",
       "      <td>SINGLE PROTEIN</td>\n",
       "    </tr>\n",
       "    <tr>\n",
       "      <th>10</th>\n",
       "      <td>O=C(NCc1ncc(-c2ccc(Br)cc2)[nH]1)Nc1ncc(Sc2cccc...</td>\n",
       "      <td>CHEMBL1075024</td>\n",
       "      <td>Enoyl-(Acyl-carrier-protein) reductase</td>\n",
       "      <td>IC50</td>\n",
       "      <td>=</td>\n",
       "      <td>0.00240</td>\n",
       "      <td>uM</td>\n",
       "      <td>Enzyme</td>\n",
       "      <td>Bacteria</td>\n",
       "      <td>Streptococcus pneumoniae</td>\n",
       "      <td>SINGLE PROTEIN</td>\n",
       "    </tr>\n",
       "    <tr>\n",
       "      <th>15</th>\n",
       "      <td>O=C(Nc1ccc(C2CCCCC2)cc1)C1=C(O)CC(Cc2ccccc2)NC1=O</td>\n",
       "      <td>CHEMBL1075025</td>\n",
       "      <td>Undecaprenyl pyrophosphate synthase</td>\n",
       "      <td>IC50</td>\n",
       "      <td>=</td>\n",
       "      <td>0.04000</td>\n",
       "      <td>uM</td>\n",
       "      <td>Enzyme</td>\n",
       "      <td>Bacteria</td>\n",
       "      <td>Streptococcus pneumoniae serotype 4 strain AT...</td>\n",
       "      <td>SINGLE PROTEIN</td>\n",
       "    </tr>\n",
       "    <tr>\n",
       "      <th>20</th>\n",
       "      <td>NS(N)(=O)=O</td>\n",
       "      <td>CHEMBL1075028</td>\n",
       "      <td>Alpha carbonic anhydrase</td>\n",
       "      <td>Ki</td>\n",
       "      <td>=</td>\n",
       "      <td>0.00001</td>\n",
       "      <td>uM</td>\n",
       "      <td>Enzyme</td>\n",
       "      <td>Enzyme</td>\n",
       "      <td>Stylophora pistillata</td>\n",
       "      <td>SINGLE PROTEIN</td>\n",
       "    </tr>\n",
       "    <tr>\n",
       "      <th>...</th>\n",
       "      <td>...</td>\n",
       "      <td>...</td>\n",
       "      <td>...</td>\n",
       "      <td>...</td>\n",
       "      <td>...</td>\n",
       "      <td>...</td>\n",
       "      <td>...</td>\n",
       "      <td>...</td>\n",
       "      <td>...</td>\n",
       "      <td>...</td>\n",
       "      <td>...</td>\n",
       "    </tr>\n",
       "    <tr>\n",
       "      <th>38345</th>\n",
       "      <td>C[C@]12O[C@H](C[C@]1(O)CO)n1c3ccccc3c3c4c(c5c6...</td>\n",
       "      <td>CHEMBL6191</td>\n",
       "      <td>SPS1/STE20-related protein kinase YSK4</td>\n",
       "      <td>Kd</td>\n",
       "      <td>=</td>\n",
       "      <td>0.00052</td>\n",
       "      <td>uM</td>\n",
       "      <td>Enzyme</td>\n",
       "      <td>Eukaryotes</td>\n",
       "      <td>Homo sapiens</td>\n",
       "      <td>SINGLE PROTEIN</td>\n",
       "    </tr>\n",
       "    <tr>\n",
       "      <th>38350</th>\n",
       "      <td>Nc1nc(N)c2nc(CNc3cccc4ccccc34)cnc2n1</td>\n",
       "      <td>CHEMBL6194</td>\n",
       "      <td>Pteridine reductase 1</td>\n",
       "      <td>IC50</td>\n",
       "      <td>=</td>\n",
       "      <td>0.01000</td>\n",
       "      <td>uM</td>\n",
       "      <td>Enzyme</td>\n",
       "      <td>Eukaryotes</td>\n",
       "      <td>Leishmania major</td>\n",
       "      <td>SINGLE PROTEIN</td>\n",
       "    </tr>\n",
       "    <tr>\n",
       "      <th>38355</th>\n",
       "      <td>CCCCCCCCCCCCCCCCCCOP(=O)([O-])OC1CC[N+](C)(C)CC1</td>\n",
       "      <td>CHEMBL6195</td>\n",
       "      <td>Ubiquitin carboxyl-terminal hydrolase isozyme L3</td>\n",
       "      <td>IC50</td>\n",
       "      <td>=</td>\n",
       "      <td>0.05000</td>\n",
       "      <td>uM</td>\n",
       "      <td>Enzyme</td>\n",
       "      <td>Eukaryotes</td>\n",
       "      <td>Homo sapiens</td>\n",
       "      <td>SINGLE PROTEIN</td>\n",
       "    </tr>\n",
       "    <tr>\n",
       "      <th>38360</th>\n",
       "      <td>COC(=O)[C@@H]1[C@H]2[C@H](O)CC(C[C@@H]1c1ccc(C...</td>\n",
       "      <td>CHEMBL6197</td>\n",
       "      <td>Transporter</td>\n",
       "      <td>IC50</td>\n",
       "      <td>=</td>\n",
       "      <td>0.00030</td>\n",
       "      <td>uM</td>\n",
       "      <td>Transporter</td>\n",
       "      <td>Eukaryotes</td>\n",
       "      <td>Macaca mulatta</td>\n",
       "      <td>SINGLE PROTEIN</td>\n",
       "    </tr>\n",
       "    <tr>\n",
       "      <th>38365</th>\n",
       "      <td>Cc1cccc(C)c1OCC(=O)NC[C@](O)(Cc1ccccc1)C(=O)N1...</td>\n",
       "      <td>CHEMBL6198</td>\n",
       "      <td>Aspartic protease PM4</td>\n",
       "      <td>Ki</td>\n",
       "      <td>=</td>\n",
       "      <td>0.12000</td>\n",
       "      <td>uM</td>\n",
       "      <td>Enzyme</td>\n",
       "      <td>Eukaryotes</td>\n",
       "      <td>Plasmodium vivax</td>\n",
       "      <td>SINGLE PROTEIN</td>\n",
       "    </tr>\n",
       "  </tbody>\n",
       "</table>\n",
       "<p>7016 rows × 11 columns</p>\n",
       "</div>"
      ],
      "text/plain": [
       "                                        canonical_smiles      Target_ID  \\\n",
       "0        CCNC(=O)Nc1cn2c(-c3ncc(C)cn3)cc(-c3cncnc3)cc2n1  CHEMBL1075021   \n",
       "5        CCNC(=O)Nc1cn2c(-c3ncccn3)cc(-c3ccc(C)nc3)cc2n1  CHEMBL1075022   \n",
       "10     O=C(NCc1ncc(-c2ccc(Br)cc2)[nH]1)Nc1ncc(Sc2cccc...  CHEMBL1075024   \n",
       "15     O=C(Nc1ccc(C2CCCCC2)cc1)C1=C(O)CC(Cc2ccccc2)NC1=O  CHEMBL1075025   \n",
       "20                                           NS(N)(=O)=O  CHEMBL1075028   \n",
       "...                                                  ...            ...   \n",
       "38345  C[C@]12O[C@H](C[C@]1(O)CO)n1c3ccccc3c3c4c(c5c6...     CHEMBL6191   \n",
       "38350               Nc1nc(N)c2nc(CNc3cccc4ccccc34)cnc2n1     CHEMBL6194   \n",
       "38355   CCCCCCCCCCCCCCCCCCOP(=O)([O-])OC1CC[N+](C)(C)CC1     CHEMBL6195   \n",
       "38360  COC(=O)[C@@H]1[C@H]2[C@H](O)CC(C[C@@H]1c1ccc(C...     CHEMBL6197   \n",
       "38365  Cc1cccc(C)c1OCC(=O)NC[C@](O)(Cc1ccccc1)C(=O)N1...     CHEMBL6198   \n",
       "\n",
       "                                            target_name standard_type  \\\n",
       "0                                  DNA gyrase subunit B          IC50   \n",
       "5                                                  ParE          IC50   \n",
       "10               Enoyl-(Acyl-carrier-protein) reductase          IC50   \n",
       "15                  Undecaprenyl pyrophosphate synthase          IC50   \n",
       "20                             Alpha carbonic anhydrase            Ki   \n",
       "...                                                 ...           ...   \n",
       "38345            SPS1/STE20-related protein kinase YSK4            Kd   \n",
       "38350                             Pteridine reductase 1          IC50   \n",
       "38355  Ubiquitin carboxyl-terminal hydrolase isozyme L3          IC50   \n",
       "38360                                       Transporter          IC50   \n",
       "38365                             Aspartic protease PM4            Ki   \n",
       "\n",
       "      standard_relation  standard_value standard_units target_protein_class  \\\n",
       "0                     =         0.03600             uM              Enzyme    \n",
       "5                     =         0.11900             uM              Enzyme    \n",
       "10                    =         0.00240             uM              Enzyme    \n",
       "15                    =         0.04000             uM              Enzyme    \n",
       "20                    =         0.00001             uM              Enzyme    \n",
       "...                 ...             ...            ...                  ...   \n",
       "38345                 =         0.00052             uM              Enzyme    \n",
       "38350                 =         0.01000             uM              Enzyme    \n",
       "38355                 =         0.05000             uM              Enzyme    \n",
       "38360                 =         0.00030             uM         Transporter    \n",
       "38365                 =         0.12000             uM              Enzyme    \n",
       "\n",
       "      Target_Taxonomy                                    Target_organism  \\\n",
       "0           Bacteria    Streptococcus pneumoniae serotype 4 strain AT...   \n",
       "5           Bacteria                           Streptococcus pneumoniae    \n",
       "10          Bacteria                           Streptococcus pneumoniae    \n",
       "15          Bacteria    Streptococcus pneumoniae serotype 4 strain AT...   \n",
       "20            Enzyme                              Stylophora pistillata    \n",
       "...               ...                                                ...   \n",
       "38345     Eukaryotes                                       Homo sapiens    \n",
       "38350     Eukaryotes                                   Leishmania major    \n",
       "38355     Eukaryotes                                       Homo sapiens    \n",
       "38360     Eukaryotes                                     Macaca mulatta    \n",
       "38365     Eukaryotes                                   Plasmodium vivax    \n",
       "\n",
       "            Target_type  \n",
       "0       SINGLE PROTEIN   \n",
       "5       SINGLE PROTEIN   \n",
       "10      SINGLE PROTEIN   \n",
       "15      SINGLE PROTEIN   \n",
       "20      SINGLE PROTEIN   \n",
       "...                 ...  \n",
       "38345   SINGLE PROTEIN   \n",
       "38350   SINGLE PROTEIN   \n",
       "38355   SINGLE PROTEIN   \n",
       "38360   SINGLE PROTEIN   \n",
       "38365   SINGLE PROTEIN   \n",
       "\n",
       "[7016 rows x 11 columns]"
      ]
     },
     "execution_count": 75,
     "metadata": {},
     "output_type": "execute_result"
    }
   ],
   "source": [
    "df_filtered = df.drop_duplicates(subset='Target_ID', keep='first')\n",
    "df_filtered"
   ]
  },
  {
   "cell_type": "code",
   "execution_count": 10,
   "metadata": {},
   "outputs": [
    {
     "data": {
      "text/plain": [
       "\"c:\\\\Users\\\\biolab\\\\Desktop\\\\Alex\\\\Alex's\\\\OneDrive\\\\Work\\\\tmap_pmc\\\\notebooks../data/data.csv\""
      ]
     },
     "execution_count": 10,
     "metadata": {},
     "output_type": "execute_result"
    }
   ],
   "source": [
    "import os\n",
    "abs = os.path.abspath('.')\n",
    "path = f'{abs}'+'../data/data.csv'\n",
    "path"
   ]
  }
 ],
 "metadata": {
  "kernelspec": {
   "display_name": "tmap",
   "language": "python",
   "name": "python3"
  },
  "language_info": {
   "codemirror_mode": {
    "name": "ipython",
    "version": 3
   },
   "file_extension": ".py",
   "mimetype": "text/x-python",
   "name": "python",
   "nbconvert_exporter": "python",
   "pygments_lexer": "ipython3",
   "version": "3.7.12"
  }
 },
 "nbformat": 4,
 "nbformat_minor": 2
}
